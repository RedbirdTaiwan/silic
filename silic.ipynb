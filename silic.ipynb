{
  "cells": [
    {
      "cell_type": "code",
      "execution_count": 1,
      "metadata": {
        "id": "7jtLyvRXlrmz"
      },
      "outputs": [
        {
          "name": "stdout",
          "output_type": "stream",
          "text": [
            "Requirement already satisfied: pydub==0.25.1 in c:\\users\\maoto\\appdata\\local\\programs\\python\\python310\\lib\\site-packages (0.25.1)\n",
            "Requirement already satisfied: nnAudio==0.3.2 in c:\\users\\maoto\\appdata\\local\\programs\\python\\python310\\lib\\site-packages (0.3.2)\n",
            "Requirement already satisfied: torch==1.13.1 in c:\\users\\maoto\\appdata\\local\\programs\\python\\python310\\lib\\site-packages (1.13.1)\n",
            "Requirement already satisfied: torchvision==0.14.1 in c:\\users\\maoto\\appdata\\local\\programs\\python\\python310\\lib\\site-packages (0.14.1)\n",
            "Requirement already satisfied: torchaudio==0.13.1 in c:\\users\\maoto\\appdata\\local\\programs\\python\\python310\\lib\\site-packages (0.13.1)\n",
            "Requirement already satisfied: yolov5==7.0.9 in c:\\users\\maoto\\appdata\\local\\programs\\python\\python310\\lib\\site-packages (7.0.9)\n",
            "Requirement already satisfied: scipy in c:\\users\\maoto\\appdata\\local\\programs\\python\\python310\\lib\\site-packages (from nnAudio==0.3.2) (1.10.1)\n",
            "Requirement already satisfied: typing-extensions in c:\\users\\maoto\\appdata\\local\\programs\\python\\python310\\lib\\site-packages (from torch==1.13.1) (4.5.0)\n",
            "Requirement already satisfied: pillow!=8.3.*,>=5.3.0 in c:\\users\\maoto\\appdata\\local\\programs\\python\\python310\\lib\\site-packages (from torchvision==0.14.1) (9.4.0)\n",
            "Requirement already satisfied: requests in c:\\users\\maoto\\appdata\\local\\programs\\python\\python310\\lib\\site-packages (from torchvision==0.14.1) (2.28.2)\n",
            "Requirement already satisfied: numpy in c:\\users\\maoto\\appdata\\local\\programs\\python\\python310\\lib\\site-packages (from torchvision==0.14.1) (1.24.2)\n",
            "Requirement already satisfied: tqdm>=4.64.0 in c:\\users\\maoto\\appdata\\local\\programs\\python\\python310\\lib\\site-packages (from yolov5==7.0.9) (4.65.0)\n",
            "Requirement already satisfied: matplotlib>=3.2.2 in c:\\users\\maoto\\appdata\\local\\programs\\python\\python310\\lib\\site-packages (from yolov5==7.0.9) (3.7.1)\n",
            "Requirement already satisfied: sahi>=0.11.10 in c:\\users\\maoto\\appdata\\local\\programs\\python\\python310\\lib\\site-packages (from yolov5==7.0.9) (0.11.12)\n",
            "Requirement already satisfied: thop>=0.1.1 in c:\\users\\maoto\\appdata\\local\\programs\\python\\python310\\lib\\site-packages (from yolov5==7.0.9) (0.1.1.post2209072238)\n",
            "Requirement already satisfied: tensorboard>=2.4.1 in c:\\users\\maoto\\appdata\\local\\programs\\python\\python310\\lib\\site-packages (from yolov5==7.0.9) (2.12.0)\n",
            "Requirement already satisfied: seaborn>=0.11.0 in c:\\users\\maoto\\appdata\\local\\programs\\python\\python310\\lib\\site-packages (from yolov5==7.0.9) (0.12.2)\n",
            "Requirement already satisfied: psutil in c:\\users\\maoto\\appdata\\roaming\\python\\python310\\site-packages (from yolov5==7.0.9) (5.9.4)\n",
            "Requirement already satisfied: PyYAML>=5.3.1 in c:\\users\\maoto\\appdata\\local\\programs\\python\\python310\\lib\\site-packages (from yolov5==7.0.9) (6.0)\n",
            "Requirement already satisfied: pandas>=1.1.4 in c:\\users\\maoto\\appdata\\local\\programs\\python\\python310\\lib\\site-packages (from yolov5==7.0.9) (1.4.1)\n",
            "Requirement already satisfied: boto3>=1.19.1 in c:\\users\\maoto\\appdata\\local\\programs\\python\\python310\\lib\\site-packages (from yolov5==7.0.9) (1.26.96)\n",
            "Requirement already satisfied: huggingface-hub>=0.12.0 in c:\\users\\maoto\\appdata\\local\\programs\\python\\python310\\lib\\site-packages (from yolov5==7.0.9) (0.13.3)\n",
            "Requirement already satisfied: gitpython in c:\\users\\maoto\\appdata\\local\\programs\\python\\python310\\lib\\site-packages (from yolov5==7.0.9) (3.1.31)\n",
            "Requirement already satisfied: fire in c:\\users\\maoto\\appdata\\local\\programs\\python\\python310\\lib\\site-packages (from yolov5==7.0.9) (0.5.0)\n",
            "Requirement already satisfied: opencv-python>=4.1.1 in c:\\users\\maoto\\appdata\\local\\programs\\python\\python310\\lib\\site-packages (from yolov5==7.0.9) (4.7.0.72)\n",
            "Requirement already satisfied: ipython in c:\\users\\maoto\\appdata\\local\\programs\\python\\python310\\lib\\site-packages (from yolov5==7.0.9) (8.0.1)\n",
            "Requirement already satisfied: botocore<1.30.0,>=1.29.96 in c:\\users\\maoto\\appdata\\local\\programs\\python\\python310\\lib\\site-packages (from boto3>=1.19.1->yolov5==7.0.9) (1.29.96)\n",
            "Requirement already satisfied: jmespath<2.0.0,>=0.7.1 in c:\\users\\maoto\\appdata\\local\\programs\\python\\python310\\lib\\site-packages (from boto3>=1.19.1->yolov5==7.0.9) (1.0.1)\n",
            "Requirement already satisfied: s3transfer<0.7.0,>=0.6.0 in c:\\users\\maoto\\appdata\\local\\programs\\python\\python310\\lib\\site-packages (from boto3>=1.19.1->yolov5==7.0.9) (0.6.0)\n",
            "Requirement already satisfied: filelock in c:\\users\\maoto\\appdata\\local\\programs\\python\\python310\\lib\\site-packages (from huggingface-hub>=0.12.0->yolov5==7.0.9) (3.10.0)\n",
            "Requirement already satisfied: packaging>=20.9 in c:\\users\\maoto\\appdata\\local\\programs\\python\\python310\\lib\\site-packages (from huggingface-hub>=0.12.0->yolov5==7.0.9) (23.0)\n",
            "Requirement already satisfied: fonttools>=4.22.0 in c:\\users\\maoto\\appdata\\local\\programs\\python\\python310\\lib\\site-packages (from matplotlib>=3.2.2->yolov5==7.0.9) (4.39.2)\n",
            "Requirement already satisfied: cycler>=0.10 in c:\\users\\maoto\\appdata\\local\\programs\\python\\python310\\lib\\site-packages (from matplotlib>=3.2.2->yolov5==7.0.9) (0.11.0)\n",
            "Requirement already satisfied: contourpy>=1.0.1 in c:\\users\\maoto\\appdata\\local\\programs\\python\\python310\\lib\\site-packages (from matplotlib>=3.2.2->yolov5==7.0.9) (1.0.7)\n",
            "Requirement already satisfied: pyparsing>=2.3.1 in c:\\users\\maoto\\appdata\\local\\programs\\python\\python310\\lib\\site-packages (from matplotlib>=3.2.2->yolov5==7.0.9) (3.0.9)\n",
            "Requirement already satisfied: kiwisolver>=1.0.1 in c:\\users\\maoto\\appdata\\local\\programs\\python\\python310\\lib\\site-packages (from matplotlib>=3.2.2->yolov5==7.0.9) (1.4.4)\n",
            "Requirement already satisfied: python-dateutil>=2.7 in c:\\users\\maoto\\appdata\\local\\programs\\python\\python310\\lib\\site-packages (from matplotlib>=3.2.2->yolov5==7.0.9) (2.8.2)\n",
            "Requirement already satisfied: pytz>=2020.1 in c:\\users\\maoto\\appdata\\local\\programs\\python\\python310\\lib\\site-packages (from pandas>=1.1.4->yolov5==7.0.9) (2022.7.1)\n",
            "Requirement already satisfied: certifi>=2017.4.17 in c:\\users\\maoto\\appdata\\local\\programs\\python\\python310\\lib\\site-packages (from requests->torchvision==0.14.1) (2022.12.7)\n",
            "Requirement already satisfied: urllib3<1.27,>=1.21.1 in c:\\users\\maoto\\appdata\\local\\programs\\python\\python310\\lib\\site-packages (from requests->torchvision==0.14.1) (1.26.15)\n",
            "Requirement already satisfied: charset-normalizer<4,>=2 in c:\\users\\maoto\\appdata\\local\\programs\\python\\python310\\lib\\site-packages (from requests->torchvision==0.14.1) (3.1.0)\n",
            "Requirement already satisfied: idna<4,>=2.5 in c:\\users\\maoto\\appdata\\local\\programs\\python\\python310\\lib\\site-packages (from requests->torchvision==0.14.1) (3.4)\n",
            "Requirement already satisfied: shapely>=1.8.0 in c:\\users\\maoto\\appdata\\local\\programs\\python\\python310\\lib\\site-packages (from sahi>=0.11.10->yolov5==7.0.9) (2.0.1)\n",
            "Requirement already satisfied: pybboxes==0.1.6 in c:\\users\\maoto\\appdata\\local\\programs\\python\\python310\\lib\\site-packages (from sahi>=0.11.10->yolov5==7.0.9) (0.1.6)\n",
            "Requirement already satisfied: click==8.0.4 in c:\\users\\maoto\\appdata\\local\\programs\\python\\python310\\lib\\site-packages (from sahi>=0.11.10->yolov5==7.0.9) (8.0.4)\n",
            "Requirement already satisfied: terminaltables in c:\\users\\maoto\\appdata\\local\\programs\\python\\python310\\lib\\site-packages (from sahi>=0.11.10->yolov5==7.0.9) (3.1.10)\n",
            "Requirement already satisfied: colorama in c:\\users\\maoto\\appdata\\local\\programs\\python\\python310\\lib\\site-packages (from click==8.0.4->sahi>=0.11.10->yolov5==7.0.9) (0.4.6)\n",
            "Requirement already satisfied: markdown>=2.6.8 in c:\\users\\maoto\\appdata\\local\\programs\\python\\python310\\lib\\site-packages (from tensorboard>=2.4.1->yolov5==7.0.9) (3.4.1)\n",
            "Requirement already satisfied: werkzeug>=1.0.1 in c:\\users\\maoto\\appdata\\local\\programs\\python\\python310\\lib\\site-packages (from tensorboard>=2.4.1->yolov5==7.0.9) (2.2.3)\n",
            "Requirement already satisfied: wheel>=0.26 in c:\\users\\maoto\\appdata\\local\\programs\\python\\python310\\lib\\site-packages (from tensorboard>=2.4.1->yolov5==7.0.9) (0.40.0)\n",
            "Requirement already satisfied: tensorboard-data-server<0.8.0,>=0.7.0 in c:\\users\\maoto\\appdata\\local\\programs\\python\\python310\\lib\\site-packages (from tensorboard>=2.4.1->yolov5==7.0.9) (0.7.0)\n",
            "Requirement already satisfied: google-auth-oauthlib<0.5,>=0.4.1 in c:\\users\\maoto\\appdata\\local\\programs\\python\\python310\\lib\\site-packages (from tensorboard>=2.4.1->yolov5==7.0.9) (0.4.6)\n",
            "Requirement already satisfied: google-auth<3,>=1.6.3 in c:\\users\\maoto\\appdata\\local\\programs\\python\\python310\\lib\\site-packages (from tensorboard>=2.4.1->yolov5==7.0.9) (2.16.2)\n",
            "Requirement already satisfied: grpcio>=1.48.2 in c:\\users\\maoto\\appdata\\local\\programs\\python\\python310\\lib\\site-packages (from tensorboard>=2.4.1->yolov5==7.0.9) (1.51.3)\n",
            "Requirement already satisfied: setuptools>=41.0.0 in c:\\users\\maoto\\appdata\\local\\programs\\python\\python310\\lib\\site-packages (from tensorboard>=2.4.1->yolov5==7.0.9) (63.2.0)\n",
            "Requirement already satisfied: protobuf>=3.19.6 in c:\\users\\maoto\\appdata\\local\\programs\\python\\python310\\lib\\site-packages (from tensorboard>=2.4.1->yolov5==7.0.9) (4.22.1)\n",
            "Requirement already satisfied: absl-py>=0.4 in c:\\users\\maoto\\appdata\\local\\programs\\python\\python310\\lib\\site-packages (from tensorboard>=2.4.1->yolov5==7.0.9) (1.4.0)\n",
            "Requirement already satisfied: tensorboard-plugin-wit>=1.6.0 in c:\\users\\maoto\\appdata\\local\\programs\\python\\python310\\lib\\site-packages (from tensorboard>=2.4.1->yolov5==7.0.9) (1.8.1)\n",
            "Requirement already satisfied: six in c:\\users\\maoto\\appdata\\local\\programs\\python\\python310\\lib\\site-packages (from fire->yolov5==7.0.9) (1.16.0)\n",
            "Requirement already satisfied: termcolor in c:\\users\\maoto\\appdata\\local\\programs\\python\\python310\\lib\\site-packages (from fire->yolov5==7.0.9) (2.2.0)\n",
            "Requirement already satisfied: gitdb<5,>=4.0.1 in c:\\users\\maoto\\appdata\\local\\programs\\python\\python310\\lib\\site-packages (from gitpython->yolov5==7.0.9) (4.0.10)\n",
            "Requirement already satisfied: backcall in c:\\users\\maoto\\appdata\\local\\programs\\python\\python310\\lib\\site-packages (from ipython->yolov5==7.0.9) (0.2.0)\n",
            "Requirement already satisfied: jedi>=0.16 in c:\\users\\maoto\\appdata\\local\\programs\\python\\python310\\lib\\site-packages (from ipython->yolov5==7.0.9) (0.18.2)\n",
            "Requirement already satisfied: pickleshare in c:\\users\\maoto\\appdata\\local\\programs\\python\\python310\\lib\\site-packages (from ipython->yolov5==7.0.9) (0.7.5)\n",
            "Requirement already satisfied: decorator in c:\\users\\maoto\\appdata\\local\\programs\\python\\python310\\lib\\site-packages (from ipython->yolov5==7.0.9) (5.1.1)\n",
            "Requirement already satisfied: stack-data in c:\\users\\maoto\\appdata\\local\\programs\\python\\python310\\lib\\site-packages (from ipython->yolov5==7.0.9) (0.6.2)\n",
            "Requirement already satisfied: matplotlib-inline in c:\\users\\maoto\\appdata\\local\\programs\\python\\python310\\lib\\site-packages (from ipython->yolov5==7.0.9) (0.1.6)\n",
            "Requirement already satisfied: black in c:\\users\\maoto\\appdata\\local\\programs\\python\\python310\\lib\\site-packages (from ipython->yolov5==7.0.9) (23.1.0)\n",
            "Requirement already satisfied: traitlets>=5 in c:\\users\\maoto\\appdata\\local\\programs\\python\\python310\\lib\\site-packages (from ipython->yolov5==7.0.9) (5.9.0)\n",
            "Requirement already satisfied: prompt-toolkit!=3.0.0,!=3.0.1,<3.1.0,>=2.0.0 in c:\\users\\maoto\\appdata\\local\\programs\\python\\python310\\lib\\site-packages (from ipython->yolov5==7.0.9) (3.0.38)\n",
            "Requirement already satisfied: pygments in c:\\users\\maoto\\appdata\\local\\programs\\python\\python310\\lib\\site-packages (from ipython->yolov5==7.0.9) (2.14.0)\n",
            "Requirement already satisfied: smmap<6,>=3.0.1 in c:\\users\\maoto\\appdata\\local\\programs\\python\\python310\\lib\\site-packages (from gitdb<5,>=4.0.1->gitpython->yolov5==7.0.9) (5.0.0)\n",
            "Requirement already satisfied: rsa<5,>=3.1.4 in c:\\users\\maoto\\appdata\\local\\programs\\python\\python310\\lib\\site-packages (from google-auth<3,>=1.6.3->tensorboard>=2.4.1->yolov5==7.0.9) (4.9)\n",
            "Requirement already satisfied: cachetools<6.0,>=2.0.0 in c:\\users\\maoto\\appdata\\local\\programs\\python\\python310\\lib\\site-packages (from google-auth<3,>=1.6.3->tensorboard>=2.4.1->yolov5==7.0.9) (5.3.0)\n",
            "Requirement already satisfied: pyasn1-modules>=0.2.1 in c:\\users\\maoto\\appdata\\local\\programs\\python\\python310\\lib\\site-packages (from google-auth<3,>=1.6.3->tensorboard>=2.4.1->yolov5==7.0.9) (0.2.8)\n",
            "Requirement already satisfied: requests-oauthlib>=0.7.0 in c:\\users\\maoto\\appdata\\local\\programs\\python\\python310\\lib\\site-packages (from google-auth-oauthlib<0.5,>=0.4.1->tensorboard>=2.4.1->yolov5==7.0.9) (1.3.1)\n",
            "Requirement already satisfied: parso<0.9.0,>=0.8.0 in c:\\users\\maoto\\appdata\\local\\programs\\python\\python310\\lib\\site-packages (from jedi>=0.16->ipython->yolov5==7.0.9) (0.8.3)\n",
            "Requirement already satisfied: wcwidth in c:\\users\\maoto\\appdata\\local\\programs\\python\\python310\\lib\\site-packages (from prompt-toolkit!=3.0.0,!=3.0.1,<3.1.0,>=2.0.0->ipython->yolov5==7.0.9) (0.2.6)\n",
            "Requirement already satisfied: MarkupSafe>=2.1.1 in c:\\users\\maoto\\appdata\\local\\programs\\python\\python310\\lib\\site-packages (from werkzeug>=1.0.1->tensorboard>=2.4.1->yolov5==7.0.9) (2.1.2)\n",
            "Requirement already satisfied: tomli>=1.1.0 in c:\\users\\maoto\\appdata\\local\\programs\\python\\python310\\lib\\site-packages (from black->ipython->yolov5==7.0.9) (2.0.1)\n",
            "Requirement already satisfied: mypy-extensions>=0.4.3 in c:\\users\\maoto\\appdata\\local\\programs\\python\\python310\\lib\\site-packages (from black->ipython->yolov5==7.0.9) (1.0.0)\n",
            "Requirement already satisfied: platformdirs>=2 in c:\\users\\maoto\\appdata\\local\\programs\\python\\python310\\lib\\site-packages (from black->ipython->yolov5==7.0.9) (3.1.1)\n",
            "Requirement already satisfied: pathspec>=0.9.0 in c:\\users\\maoto\\appdata\\local\\programs\\python\\python310\\lib\\site-packages (from black->ipython->yolov5==7.0.9) (0.11.1)\n",
            "Requirement already satisfied: pure-eval in c:\\users\\maoto\\appdata\\local\\programs\\python\\python310\\lib\\site-packages (from stack-data->ipython->yolov5==7.0.9) (0.2.2)\n",
            "Requirement already satisfied: asttokens>=2.1.0 in c:\\users\\maoto\\appdata\\local\\programs\\python\\python310\\lib\\site-packages (from stack-data->ipython->yolov5==7.0.9) (2.2.1)\n",
            "Requirement already satisfied: executing>=1.2.0 in c:\\users\\maoto\\appdata\\local\\programs\\python\\python310\\lib\\site-packages (from stack-data->ipython->yolov5==7.0.9) (1.2.0)\n",
            "Requirement already satisfied: pyasn1<0.5.0,>=0.4.6 in c:\\users\\maoto\\appdata\\local\\programs\\python\\python310\\lib\\site-packages (from pyasn1-modules>=0.2.1->google-auth<3,>=1.6.3->tensorboard>=2.4.1->yolov5==7.0.9) (0.4.8)\n",
            "Requirement already satisfied: oauthlib>=3.0.0 in c:\\users\\maoto\\appdata\\local\\programs\\python\\python310\\lib\\site-packages (from requests-oauthlib>=0.7.0->google-auth-oauthlib<0.5,>=0.4.1->tensorboard>=2.4.1->yolov5==7.0.9) (3.2.2)\n"
          ]
        },
        {
          "name": "stderr",
          "output_type": "stream",
          "text": [
            "\n",
            "[notice] A new release of pip available: 22.2.1 -> 23.0.1\n",
            "[notice] To update, run: python.exe -m pip install --upgrade pip\n"
          ]
        }
      ],
      "source": [
        "!pip install pydub==0.25.1 nnAudio==0.3.2 torch==1.13.1 torchvision==0.14.1 torchaudio==0.13.1 yolov5==7.0.9"
      ]
    },
    {
      "cell_type": "code",
      "execution_count": 3,
      "metadata": {
        "colab": {
          "base_uri": "https://localhost:8080/"
        },
        "id": "4N22IV3syR2B",
        "outputId": "fb97df17-dbf1-4e51-8adf-1f44e9607ffa"
      },
      "outputs": [
        {
          "name": "stdout",
          "output_type": "stream",
          "text": [
            "[WinError 2] 系統找不到指定的檔案。: \"'silic'\"\n",
            "c:\\Users\\maoto\\Desktop\\dev\\project\\silic\n"
          ]
        },
        {
          "name": "stderr",
          "output_type": "stream",
          "text": [
            "'git' ���O�����Υ~���R�O�B�i���檺�{���Χ妸�ɡC\n",
            "c:\\Users\\maoto\\AppData\\Local\\Programs\\Python\\Python310\\lib\\site-packages\\tqdm\\auto.py:21: TqdmWarning: IProgress not found. Please update jupyter and ipywidgets. See https://ipywidgets.readthedocs.io/en/stable/user_install.html\n",
            "  from .autonotebook import tqdm as notebook_tqdm\n"
          ]
        }
      ],
      "source": [
        "import pandas as pd, silic\n",
        "from IPython.display import Image\n",
        "import os"
      ]
    },
    {
      "cell_type": "code",
      "execution_count": 4,
      "metadata": {},
      "outputs": [
        {
          "name": "stdout",
          "output_type": "stream",
          "text": [
            "49593.mp3\n",
            "STFT kernels created, time used = 0.0585 seconds\n",
            "STFT kernels created, time used = 0.0630 seconds\n",
            "STFT filter created, time used = 0.0050 seconds\n",
            "Mel filter created, time used = 0.0050 seconds\n",
            "Origional audio: channel = 1, sample_rate = 32000 Hz, sample_size = 192000, duration = 6.0 s\n",
            "Standarized audio: channel = 1, sample_rate = 32000 Hz, sample_size = 192000, duration = 6.0 s\n",
            "Spectrogram was saved to sample\\linear\\49593.jpg.\n",
            "Spectrogram was saved to sample\\mel\\49593.jpg.\n",
            "Spectrogram was saved to sample\\rainbow\\49593.jpg.\n"
          ]
        },
        {
          "name": "stderr",
          "output_type": "stream",
          "text": [
            "Fusing layers... \n",
            "Model summary: 283 layers, 7945526 parameters, 0 gradients\n"
          ]
        },
        {
          "name": "stdout",
          "output_type": "stream",
          "text": [
            "Spectrogram was saved to sample\\rainbow\\49593.jpg.\n",
            "               file  classid species_name sound_class     scientific_name  \\\n",
            "0  sample\\49593.mp3       66           鵂鶹        S-01  Glaucidium brodiei   \n",
            "1  sample\\49593.mp3       66           鵂鶹        S-01  Glaucidium brodiei   \n",
            "\n",
            "   time_begin  time_end  freq_low  freq_high  score  \n",
            "0        2018      3989       810       1217  0.741  \n",
            "1        5876      6000       841       1230  0.559  \n",
            "Spectrogram was saved to sample\\linear\\49593.jpg.\n",
            "sample\\labels\\49593.jpg saved\n",
            "STFT kernels created, time used = 0.0455 seconds\n",
            "STFT kernels created, time used = 0.0540 seconds\n",
            "STFT filter created, time used = 0.0030 seconds\n",
            "Mel filter created, time used = 0.0040 seconds\n",
            "9 files found.\n",
            "Origional audio: channel = 1, sample_rate = 32000 Hz, sample_size = 192000, duration = 6.0 s\n",
            "Standarized audio: channel = 1, sample_rate = 32000 Hz, sample_size = 192000, duration = 6.0 s\n"
          ]
        },
        {
          "name": "stderr",
          "output_type": "stream",
          "text": [
            "Fusing layers... \n"
          ]
        },
        {
          "name": "stdout",
          "output_type": "stream",
          "text": [
            "Spectrogram was saved to result_silic\\linear\\49593.png.\n"
          ]
        },
        {
          "name": "stderr",
          "output_type": "stream",
          "text": [
            "Model summary: 283 layers, 7945526 parameters, 0 gradients\n"
          ]
        },
        {
          "name": "stdout",
          "output_type": "stream",
          "text": [
            "Spectrogram was saved to result_silic\\rainbow\\49593.png.\n",
            "2 sounds of 1 species is/are found in sample\\49593.mp3\n",
            "Origional audio: channel = 2, sample_rate = 44100 Hz, sample_size = 1388544, duration = 15.74312925170068 s\n",
            "Standarized audio: channel = 1, sample_rate = 32000 Hz, sample_size = 503780, duration = 15.743125 s\n",
            "Spectrogram was saved to result_silic\\linear\\SILIC-demo.png.\n",
            "Spectrogram was saved to result_silic\\rainbow\\SILIC-demo.png.\n",
            "21 sounds of 4 species is/are found in sample\\SILIC-demo.mp4\n",
            "Origional audio: channel = 2, sample_rate = 44100 Hz, sample_size = 5291520, duration = 59.99455782312925 s\n",
            "Standarized audio: channel = 1, sample_rate = 32000 Hz, sample_size = 1919826, duration = 59.9945625 s\n",
            "Spectrogram was saved to result_silic\\linear\\TT01_20210401_060000.png.\n",
            "Spectrogram was saved to result_silic\\rainbow\\TT01_20210401_060000.png.\n",
            "91 sounds of 11 species is/are found in sample\\TT01_20210401_060000.wav\n",
            "Origional audio: channel = 2, sample_rate = 44100 Hz, sample_size = 5291520, duration = 59.99455782312925 s\n",
            "Standarized audio: channel = 1, sample_rate = 32000 Hz, sample_size = 1919826, duration = 59.9945625 s\n",
            "Spectrogram was saved to result_silic\\linear\\ZZG01_20210501_070000.png.\n",
            "Spectrogram was saved to result_silic\\rainbow\\ZZG01_20210501_070000.png.\n",
            "57 sounds of 8 species is/are found in sample\\ZZG01_20210501_070000.wav\n",
            "171 sounds of 19 species is/are found in 4 recording(s). Preparing the browser package ...\n",
            "Finished. The browser package is compressed and named result.zip\n",
            "56.98478579521179 used.\n",
            "SILIC-demo.jpg\n",
            "STFT kernels created, time used = 0.0490 seconds\n",
            "STFT kernels created, time used = 0.0618 seconds\n",
            "STFT filter created, time used = 0.0040 seconds\n",
            "Mel filter created, time used = 0.0040 seconds\n",
            "Sorry, this file type is not permitted. The legal extensions are: wav, mp3, wma, m4a, ogg.\n"
          ]
        },
        {
          "ename": "TypeError",
          "evalue": "cannot unpack non-iterable NoneType object",
          "output_type": "error",
          "traceback": [
            "\u001b[1;31m---------------------------------------------------------------------------\u001b[0m",
            "\u001b[1;31mTypeError\u001b[0m                                 Traceback (most recent call last)",
            "\u001b[1;32mc:\\Users\\maoto\\Desktop\\dev\\project\\silic\\silic.ipynb 儲存格 3\u001b[0m in \u001b[0;36m<module>\u001b[1;34m\u001b[0m\n\u001b[0;32m      <a href='vscode-notebook-cell:/c%3A/Users/maoto/Desktop/dev/project/silic/silic.ipynb#X16sZmlsZQ%3D%3D?line=5'>6</a>\u001b[0m \u001b[39m# \u001b[39;00m\n\u001b[0;32m      <a href='vscode-notebook-cell:/c%3A/Users/maoto/Desktop/dev/project/silic/silic.ipynb#X16sZmlsZQ%3D%3D?line=6'>7</a>\u001b[0m model \u001b[39m=\u001b[39m silic\u001b[39m.\u001b[39mSilic()\n\u001b[1;32m----> <a href='vscode-notebook-cell:/c%3A/Users/maoto/Desktop/dev/project/silic/silic.ipynb#X16sZmlsZQ%3D%3D?line=7'>8</a>\u001b[0m model\u001b[39m.\u001b[39;49maudio(\u001b[39m'\u001b[39;49m\u001b[39msample/\u001b[39;49m\u001b[39m'\u001b[39;49m \u001b[39m+\u001b[39;49m file\u001b[39m.\u001b[39;49mname);\n\u001b[0;32m      <a href='vscode-notebook-cell:/c%3A/Users/maoto/Desktop/dev/project/silic/silic.ipynb#X16sZmlsZQ%3D%3D?line=8'>9</a>\u001b[0m \u001b[39m# \u001b[39;00m\n\u001b[0;32m     <a href='vscode-notebook-cell:/c%3A/Users/maoto/Desktop/dev/project/silic/silic.ipynb#X16sZmlsZQ%3D%3D?line=9'>10</a>\u001b[0m spect_linear \u001b[39m=\u001b[39m model\u001b[39m.\u001b[39mtfr()\n",
            "File \u001b[1;32mc:\\Users\\maoto\\Desktop\\dev\\project\\silic\\silic.py:106\u001b[0m, in \u001b[0;36mSilic.audio\u001b[1;34m(self, audio_file, ultrasonic)\u001b[0m\n\u001b[0;32m    104\u001b[0m \u001b[39mself\u001b[39m\u001b[39m.\u001b[39maudiopath \u001b[39m=\u001b[39m os\u001b[39m.\u001b[39mpath\u001b[39m.\u001b[39mdirname(audio_file)\n\u001b[0;32m    105\u001b[0m \u001b[39mself\u001b[39m\u001b[39m.\u001b[39maudiofileext \u001b[39m=\u001b[39m audio_file\u001b[39m.\u001b[39msplit(\u001b[39m'\u001b[39m\u001b[39m.\u001b[39m\u001b[39m'\u001b[39m)[\u001b[39m-\u001b[39m\u001b[39m1\u001b[39m]\n\u001b[1;32m--> 106\u001b[0m \u001b[39mself\u001b[39m\u001b[39m.\u001b[39msr, \u001b[39mself\u001b[39m\u001b[39m.\u001b[39maudiodata, \u001b[39mself\u001b[39m\u001b[39m.\u001b[39mduration, \u001b[39mself\u001b[39m\u001b[39m.\u001b[39msound, \u001b[39mself\u001b[39m\u001b[39m.\u001b[39moriginal_metadata \u001b[39m=\u001b[39m AudioStandarize(audio_file, \u001b[39mself\u001b[39m\u001b[39m.\u001b[39msr, \u001b[39mself\u001b[39m\u001b[39m.\u001b[39mdevice, high_pass\u001b[39m=\u001b[39m\u001b[39mself\u001b[39m\u001b[39m.\u001b[39mfmin, ultrasonic\u001b[39m=\u001b[39multrasonic)\n",
            "\u001b[1;31mTypeError\u001b[0m: cannot unpack non-iterable NoneType object"
          ]
        }
      ],
      "source": [
        "with os.scandir('sample') as files:\n",
        "        for file in files:\n",
        "            if file.is_file():\n",
        "                # \n",
        "                print(file.name)\n",
        "                # \n",
        "                model = silic.Silic()\n",
        "                model.audio('sample/' + file.name);\n",
        "                # \n",
        "                spect_linear = model.tfr()\n",
        "                Image(spect_linear)\n",
        "                \n",
        "                #\n",
        "                spect_mel = model.tfr(spect_type='mel')\n",
        "                Image(spect_mel)\n",
        "                \n",
        "                #\n",
        "                spect_rainbow = model.tfr(spect_type='rainbow')\n",
        "                Image(spect_rainbow)\n",
        "\n",
        "                #\n",
        "                \"\"\"\n",
        "                What is weights?\n",
        "                The weight is the kernel of SILIC and will be update after the SILIC is retrain/reinforcement.\n",
        "                Users can choose any version or use the latest version, i.e. higher number.\n",
        "                Users can find all models released in the folder \"model\"\n",
        "\n",
        "                What is step?\n",
        "                In SILIC, each detect is applied on a 3s audio.\n",
        "                When a recording is longer than 3s, users can choose a duration for the use of moving window\n",
        "                For example, when using step=1000, multiple 3s-clips will be cut every 1000ms, such as a 6s recording will be split into 4 clips: 0-3s, 1-4s, 2-5s and 3-6s\n",
        "\n",
        "                What is targetclasses?\n",
        "                Users can setup targetclasses to focus on the sounds interest, a smaller targetclasses can speed up computing process. \n",
        "                Use targetclasses=[] can detect all sound classes in the SILIC.\n",
        "                All the class ID can be found in model/expXX/soundclass.csv\n",
        "\n",
        "                What is conf_thres?\n",
        "                The SILIC will provide confidence score (between 0 and 1) for each detect.\n",
        "                Users can choose a threshold of confidence score (conf_thres) to filter out detects with scores lower than conf_thres.\n",
        "                A biger conf_thres can speed up computing process and increase the precision but decrease the recall.\n",
        "                \"\"\"\n",
        "                # labels = model.detect(weights='model/exp20/best.pt', step=1000, targetclasses=[66,101], conf_thres=0.1)\n",
        "                labels = model.detect(weights='model/exp24/best.pt', step=1000, targetclasses=[], conf_thres=0.5)\n",
        "                \n",
        "                #\n",
        "                df = pd.DataFrame(labels[1:],columns=labels[0])\n",
        "                df = df.sort_values('time_begin')\n",
        "                #print(df)\n",
        "\n",
        "                # 合併重疊\n",
        "                newlabels = silic.clean_multi_boxes(labels)\n",
        "                print(newlabels)\n",
        "\n",
        "                label_img = silic.draw_labels(model, newlabels)\n",
        "                Image(label_img)\n",
        "\n",
        "                # This function can package all the audios, detections and spectrograms of detections for using a www browser to review\n",
        "                silic.browser('sample', weights='model/exp24/best.pt', step=1000, targetclasses=[], conf_thres=0.5)"
      ]
    }
  ],
  "metadata": {
    "accelerator": "GPU",
    "colab": {
      "provenance": []
    },
    "kernelspec": {
      "display_name": "Python 3",
      "language": "python",
      "name": "python3"
    },
    "language_info": {
      "codemirror_mode": {
        "name": "ipython",
        "version": 3
      },
      "file_extension": ".py",
      "mimetype": "text/x-python",
      "name": "python",
      "nbconvert_exporter": "python",
      "pygments_lexer": "ipython3",
      "version": "3.10.6"
    }
  },
  "nbformat": 4,
  "nbformat_minor": 0
}
