{
  "cells": [
    {
      "cell_type": "code",
      "execution_count": 1,
      "metadata": {
        "id": "7jtLyvRXlrmz"
      },
      "outputs": [
        {
          "name": "stderr",
          "output_type": "stream",
          "text": [
            "'%pip' ���O�����Υ~���R�O�B�i���檺�{���Χ妸�ɡC\n"
          ]
        }
      ],
      "source": [
        "# 安裝套件\n",
        "!%pip install pydub==0.25.1 nnAudio==0.3.2 torch==1.13.1 torchvision==0.14.1 torchaudio==0.13.1 yolov5==7.0.9"
      ]
    },
    {
      "cell_type": "code",
      "execution_count": 7,
      "metadata": {},
      "outputs": [],
      "source": [
        "# 資料匣路徑\n",
        "dir = 'sample'"
      ]
    },
    {
      "cell_type": "code",
      "execution_count": 8,
      "metadata": {
        "colab": {
          "base_uri": "https://localhost:8080/"
        },
        "id": "4N22IV3syR2B",
        "outputId": "fb97df17-dbf1-4e51-8adf-1f44e9607ffa"
      },
      "outputs": [],
      "source": [
        "# 呼叫模組\n",
        "import pandas as pd, silic\n",
        "from IPython.display import Image\n",
        "import os"
      ]
    },
    {
      "cell_type": "code",
      "execution_count": 9,
      "metadata": {},
      "outputs": [
        {
          "name": "stdout",
          "output_type": "stream",
          "text": [
            "D:\\新增資料夾\n",
            "103.wav\n",
            "STFT kernels created, time used = 0.0820 seconds\n",
            "STFT kernels created, time used = 0.0555 seconds\n",
            "STFT filter created, time used = 0.0050 seconds\n",
            "Mel filter created, time used = 0.0050 seconds\n",
            "原始音訊： channel = 1, 採樣率sample_rate = 44100 Hz, 採樣大小sample_size = 934920, 持續時間duration = 21.2 s\n",
            "標準化音訊： channel = 1, sample_rate = 32000 Hz, sample_size = 678400, duration = 21.2 s\n",
            "聲譜圖 Spectrogram 儲存至 D:\\新增資料夾\\linear\\103.jpg.\n",
            "聲譜圖 Spectrogram 儲存至 D:\\新增資料夾\\mel\\103.jpg.\n"
          ]
        },
        {
          "name": "stderr",
          "output_type": "stream",
          "text": [
            "Fusing layers... \n"
          ]
        },
        {
          "name": "stdout",
          "output_type": "stream",
          "text": [
            "聲譜圖 Spectrogram 儲存至 D:\\新增資料夾\\rainbow\\103.jpg.\n"
          ]
        },
        {
          "name": "stderr",
          "output_type": "stream",
          "text": [
            "Model summary: 283 layers, 7945526 parameters, 0 gradients\n"
          ]
        },
        {
          "name": "stdout",
          "output_type": "stream",
          "text": [
            "聲譜圖 Spectrogram 儲存至 D:\\新增資料夾\\rainbow\\103.jpg.\n",
            "               file  classid species_name  sound_class       scientific_name  \\\n",
            "0  D:\\新增資料夾\\103.wav      126          小白鷺         C-01      Egretta garzetta   \n",
            "1  D:\\新增資料夾\\103.wav      296          松雀鷹         S-01    Accipiter virgatus   \n",
            "2  D:\\新增資料夾\\103.wav      283         白面鼯鼠         S-01  Petaurista alborufus   \n",
            "3  D:\\新增資料夾\\103.wav      240         中國樹蟾         S-01        Hyla chinensis   \n",
            "4  D:\\新增資料夾\\103.wav      340          白頭翁         S-01   Pycnonotus sinensis   \n",
            "5  D:\\新增資料夾\\103.wav      337         灰喉山椒         U-01  Pericrocotus solaris   \n",
            "6  D:\\新增資料夾\\103.wav      337         灰喉山椒         U-01  Pericrocotus solaris   \n",
            "7  D:\\新增資料夾\\103.wav      296          松雀鷹         S-01    Accipiter virgatus   \n",
            "8  D:\\新增資料夾\\103.wav      486           智人  Speech_Song          Homo sapiens   \n",
            "\n",
            "   time_begin  time_end  freq_low  freq_high  score  \n",
            "0        5000      5391       538       2942  0.678  \n",
            "1        9268     11304      1483       4786  0.836  \n",
            "2        9343      9657      3199       4459  0.842  \n",
            "3       11000     11316      1605       4355  0.505  \n",
            "4       11259     12000      1270       3740  0.525  \n",
            "5       11831     12149      4218       7396  0.754  \n",
            "6       12000     12432      4152       7232  0.863  \n",
            "7       13467     14744      1498       4938  0.588  \n",
            "8       17014     17746       122        851  0.739  \n",
            "聲譜圖 Spectrogram 儲存至 D:\\新增資料夾\\linear\\103.jpg.\n",
            "D:\\新增資料夾\\labels\\103.jpg saved\n",
            "STFT kernels created, time used = 0.0460 seconds\n",
            "STFT kernels created, time used = 0.0523 seconds\n",
            "STFT filter created, time used = 0.0040 seconds\n",
            "Mel filter created, time used = 0.0040 seconds\n",
            "5 files found.\n",
            "原始音訊： channel = 1, 採樣率sample_rate = 44100 Hz, 採樣大小sample_size = 934920, 持續時間duration = 21.2 s\n",
            "標準化音訊： channel = 1, sample_rate = 32000 Hz, sample_size = 678400, duration = 21.2 s\n"
          ]
        },
        {
          "name": "stderr",
          "output_type": "stream",
          "text": [
            "Fusing layers... \n",
            "Model summary: 283 layers, 7945526 parameters, 0 gradients\n"
          ]
        },
        {
          "name": "stdout",
          "output_type": "stream",
          "text": [
            "聲譜圖 Spectrogram 儲存至 result_silic\\linear\\103.png.\n",
            "聲譜圖 Spectrogram 儲存至 result_silic\\rainbow\\103.png.\n",
            "9 sounds of 7 species is/are found in D:\\新增資料夾\\103.wav\n",
            "9 sounds of 7 species is/are found in 1 recording(s). Preparing the browser package ...\n",
            "完成. 瀏覽器套件已壓縮並命名為 result.zip。\n",
            "8.219784021377563 used.\n"
          ]
        }
      ],
      "source": [
        "print(dir)\n",
        "with os.scandir(dir) as files:\n",
        "    for file in files:\n",
        "        if file.is_file():\n",
        "            # \n",
        "            print(file.name)\n",
        "            # \n",
        "            model = silic.Silic()\n",
        "            model.audio(dir + '/' + file.name);\n",
        "            # \n",
        "            spect_linear = model.tfr()\n",
        "            Image(spect_linear)\n",
        "            \n",
        "            #\n",
        "            spect_mel = model.tfr(spect_type='mel')\n",
        "            Image(spect_mel)\n",
        "            \n",
        "            #\n",
        "            spect_rainbow = model.tfr(spect_type='rainbow')\n",
        "            Image(spect_rainbow)\n",
        "\n",
        "            #\n",
        "            \"\"\"\n",
        "            What is weights?\n",
        "            The weight is the kernel of SILIC and will be update after the SILIC is retrain/reinforcement.\n",
        "            Users can choose any version or use the latest version, i.e. higher number.\n",
        "            Users can find all models released in the folder \"model\"\n",
        "\n",
        "            What is step?\n",
        "            In SILIC, each detect is applied on a 3s audio.\n",
        "            When a recording is longer than 3s, users can choose a duration for the use of moving window\n",
        "            For example, when using step=1000, multiple 3s-clips will be cut every 1000ms, such as a 6s recording will be split into 4 clips: 0-3s, 1-4s, 2-5s and 3-6s\n",
        "\n",
        "            What is targetclasses?\n",
        "            Users can setup targetclasses to focus on the sounds interest, a smaller targetclasses can speed up computing process. \n",
        "            Use targetclasses=[] can detect all sound classes in the SILIC.\n",
        "            All the class ID can be found in model/expXX/soundclass.csv\n",
        "\n",
        "            What is conf_thres?\n",
        "            The SILIC will provide confidence score (between 0 and 1) for each detect.\n",
        "            Users can choose a threshold of confidence score (conf_thres) to filter out detects with scores lower than conf_thres.\n",
        "            A biger conf_thres can speed up computing process and increase the precision but decrease the recall.\n",
        "            \"\"\"\n",
        "            # labels = model.detect(weights='model/exp20/best.pt', step=1000, targetclasses=[66,101], conf_thres=0.1)\n",
        "            labels = model.detect(weights='model/exp24/best.pt', step=1000, targetclasses=[], conf_thres=0.5)\n",
        "            \n",
        "            #\n",
        "            df = pd.DataFrame(labels[1:],columns=labels[0])\n",
        "            df = df.sort_values('time_begin')\n",
        "            #print(df)\n",
        "\n",
        "            # 合併重疊\n",
        "            newlabels = silic.clean_multi_boxes(labels)\n",
        "            print(newlabels)\n",
        "\n",
        "            label_img = silic.draw_labels(model, newlabels)\n",
        "            Image(label_img)\n",
        "\n",
        "            # This function can package all the audios, detections and spectrograms of detections for using a www browser to review\n",
        "            silic.browser(dir, weights='model/exp24/best.pt', step=1000, targetclasses=[], conf_thres=0.5)"
      ]
    }
  ],
  "metadata": {
    "accelerator": "GPU",
    "colab": {
      "provenance": []
    },
    "kernelspec": {
      "display_name": "Python 3",
      "language": "python",
      "name": "python3"
    },
    "language_info": {
      "codemirror_mode": {
        "name": "ipython",
        "version": 3
      },
      "file_extension": ".py",
      "mimetype": "text/x-python",
      "name": "python",
      "nbconvert_exporter": "python",
      "pygments_lexer": "ipython3",
      "version": "3.10.6"
    }
  },
  "nbformat": 4,
  "nbformat_minor": 0
}
