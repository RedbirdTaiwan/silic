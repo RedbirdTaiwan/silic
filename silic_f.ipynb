{
  "cells": [
    {
      "cell_type": "code",
      "execution_count": 1,
      "metadata": {
        "id": "7jtLyvRXlrmz"
      },
      "outputs": [
        {
          "name": "stderr",
          "output_type": "stream",
          "text": [
            "'%pip' ���O�����Υ~���R�O�B�i���檺�{���Χ妸�ɡC\n"
          ]
        }
      ],
      "source": [
        "# 安裝套件\n",
        "!%pip install pydub==0.25.1 nnAudio==0.3.2 torch==1.13.1 torchvision==0.14.1 torchaudio==0.13.1 yolov5==7.0.9"
      ]
    },
    {
      "cell_type": "code",
      "execution_count": 2,
      "metadata": {
        "colab": {
          "base_uri": "https://localhost:8080/"
        },
        "id": "4N22IV3syR2B",
        "outputId": "fb97df17-dbf1-4e51-8adf-1f44e9607ffa"
      },
      "outputs": [],
      "source": [
        "# 呼叫模組\n",
        "import pandas as pd, silic\n",
        "from IPython.display import Image\n",
        "import os\n"
      ]
    },
    {
      "cell_type": "code",
      "execution_count": 4,
      "metadata": {},
      "outputs": [
        {
          "data": {
            "application/vnd.jupyter.widget-view+json": {
              "model_id": "68ade782053b4225a4f8d04e11659817",
              "version_major": 2,
              "version_minor": 0
            },
            "text/plain": [
              "Text(value='sample', description='輸入框：', placeholder='請輸入資料')"
            ]
          },
          "metadata": {},
          "output_type": "display_data"
        },
        {
          "name": "stderr",
          "output_type": "stream",
          "text": [
            "C:\\Users\\maoto\\AppData\\Local\\Temp\\ipykernel_8216\\2897599664.py:20: DeprecationWarning: on_submit is deprecated. Instead, set the .continuous_update attribute to False and observe the value changing with: mywidget.observe(callback, 'value').\n",
            "  text_input.on_submit(handle_submit)\n"
          ]
        },
        {
          "name": "stdout",
          "output_type": "stream",
          "text": [
            "已儲存資料：samplea\n",
            "已儲存資料：C:\\Users\\maoto\\Desktop\\dev\\project\\silic\\samplea\n"
          ]
        }
      ],
      "source": [
        "from IPython.display import display\n",
        "import ipywidgets as widgets\n",
        "\n",
        "dir = 'sample'\n",
        "\n",
        "text_input = widgets.Text(\n",
        "    value=dir,\n",
        "    placeholder='請輸入路徑',\n",
        "    description='聲音檔路徑：',\n",
        "    disabled=False\n",
        ")\n",
        "\n",
        "display(text_input)\n",
        "\n",
        "def handle_submit(sender):\n",
        "    global dir\n",
        "    dir = sender.value\n",
        "    print(f\"已儲存路徑：{dir}\")\n",
        "\n",
        "text_input.on_submit(handle_submit)\n"
      ]
    },
    {
      "cell_type": "code",
      "execution_count": 7,
      "metadata": {},
      "outputs": [
        {
          "name": "stdout",
          "output_type": "stream",
          "text": [
            "C:\\Users\\maoto\\Desktop\\dev\\project\\silic\\samplea\n",
            "20230327_131403.mp3\n",
            "STFT kernels created, time used = 0.0505 seconds\n",
            "STFT kernels created, time used = 0.0578 seconds\n",
            "STFT filter created, time used = 0.0040 seconds\n",
            "Mel filter created, time used = 0.0040 seconds\n",
            "原始音訊： channel = 2, 採樣率sample_rate = 44100 Hz, 採樣大小sample_size = 1327104, 持續時間duration = 15.046530612244897 s\n",
            "標準化音訊： channel = 1, sample_rate = 32000 Hz, sample_size = 481489, duration = 15.04653125 s\n",
            "聲譜圖 Spectrogram 儲存至 C:\\Users\\maoto\\Desktop\\dev\\project\\silic\\samplea\\linear\\20230327_131403.jpg.\n",
            "聲譜圖 Spectrogram 儲存至 C:\\Users\\maoto\\Desktop\\dev\\project\\silic\\samplea\\mel\\20230327_131403.jpg.\n"
          ]
        },
        {
          "name": "stderr",
          "output_type": "stream",
          "text": [
            "Fusing layers... \n",
            "Model summary: 283 layers, 7945526 parameters, 0 gradients\n"
          ]
        },
        {
          "name": "stdout",
          "output_type": "stream",
          "text": [
            "聲譜圖 Spectrogram 儲存至 C:\\Users\\maoto\\Desktop\\dev\\project\\silic\\samplea\\rainbow\\20230327_131403.jpg.\n",
            "聲譜圖 Spectrogram 儲存至 C:\\Users\\maoto\\Desktop\\dev\\project\\silic\\samplea\\rainbow\\20230327_131403.jpg.\n",
            "                                                 file  classid species_name  \\\n",
            "0   C:\\Users\\maoto\\Desktop\\dev\\project\\silic\\sampl...      152         臺灣竹雞   \n",
            "1   C:\\Users\\maoto\\Desktop\\dev\\project\\silic\\sampl...      153         臺灣竹雞   \n",
            "2   C:\\Users\\maoto\\Desktop\\dev\\project\\silic\\sampl...      152         臺灣竹雞   \n",
            "3   C:\\Users\\maoto\\Desktop\\dev\\project\\silic\\sampl...      153         臺灣竹雞   \n",
            "4   C:\\Users\\maoto\\Desktop\\dev\\project\\silic\\sampl...      152         臺灣竹雞   \n",
            "5   C:\\Users\\maoto\\Desktop\\dev\\project\\silic\\sampl...      153         臺灣竹雞   \n",
            "6   C:\\Users\\maoto\\Desktop\\dev\\project\\silic\\sampl...      152         臺灣竹雞   \n",
            "7   C:\\Users\\maoto\\Desktop\\dev\\project\\silic\\sampl...      337         灰喉山椒   \n",
            "8   C:\\Users\\maoto\\Desktop\\dev\\project\\silic\\sampl...      153         臺灣竹雞   \n",
            "9   C:\\Users\\maoto\\Desktop\\dev\\project\\silic\\sampl...      152         臺灣竹雞   \n",
            "10  C:\\Users\\maoto\\Desktop\\dev\\project\\silic\\sampl...      153         臺灣竹雞   \n",
            "11  C:\\Users\\maoto\\Desktop\\dev\\project\\silic\\sampl...      152         臺灣竹雞   \n",
            "12  C:\\Users\\maoto\\Desktop\\dev\\project\\silic\\sampl...      153         臺灣竹雞   \n",
            "13  C:\\Users\\maoto\\Desktop\\dev\\project\\silic\\sampl...      152         臺灣竹雞   \n",
            "14  C:\\Users\\maoto\\Desktop\\dev\\project\\silic\\sampl...      152         臺灣竹雞   \n",
            "15  C:\\Users\\maoto\\Desktop\\dev\\project\\silic\\sampl...      153         臺灣竹雞   \n",
            "16  C:\\Users\\maoto\\Desktop\\dev\\project\\silic\\sampl...      152         臺灣竹雞   \n",
            "17  C:\\Users\\maoto\\Desktop\\dev\\project\\silic\\sampl...      153         臺灣竹雞   \n",
            "18  C:\\Users\\maoto\\Desktop\\dev\\project\\silic\\sampl...      153         臺灣竹雞   \n",
            "19  C:\\Users\\maoto\\Desktop\\dev\\project\\silic\\sampl...      375         褐頭花翼   \n",
            "20  C:\\Users\\maoto\\Desktop\\dev\\project\\silic\\sampl...      152         臺灣竹雞   \n",
            "21  C:\\Users\\maoto\\Desktop\\dev\\project\\silic\\sampl...      153         臺灣竹雞   \n",
            "22  C:\\Users\\maoto\\Desktop\\dev\\project\\silic\\sampl...      152         臺灣竹雞   \n",
            "23  C:\\Users\\maoto\\Desktop\\dev\\project\\silic\\sampl...      153         臺灣竹雞   \n",
            "24  C:\\Users\\maoto\\Desktop\\dev\\project\\silic\\sampl...      152         臺灣竹雞   \n",
            "25  C:\\Users\\maoto\\Desktop\\dev\\project\\silic\\sampl...      153         臺灣竹雞   \n",
            "26  C:\\Users\\maoto\\Desktop\\dev\\project\\silic\\sampl...      152         臺灣竹雞   \n",
            "27  C:\\Users\\maoto\\Desktop\\dev\\project\\silic\\sampl...      153         臺灣竹雞   \n",
            "28  C:\\Users\\maoto\\Desktop\\dev\\project\\silic\\sampl...      152         臺灣竹雞   \n",
            "29  C:\\Users\\maoto\\Desktop\\dev\\project\\silic\\sampl...      153         臺灣竹雞   \n",
            "30  C:\\Users\\maoto\\Desktop\\dev\\project\\silic\\sampl...      152         臺灣竹雞   \n",
            "31  C:\\Users\\maoto\\Desktop\\dev\\project\\silic\\sampl...      153         臺灣竹雞   \n",
            "\n",
            "   sound_class        scientific_name  time_begin  time_end  freq_low  \\\n",
            "0         S-01  Bambusicola sonorivox         110       736      1191   \n",
            "1         S-02  Bambusicola sonorivox         640      1156      2308   \n",
            "2         S-01  Bambusicola sonorivox         984      1592       984   \n",
            "3         S-02  Bambusicola sonorivox        1466      1961      2288   \n",
            "4         S-01  Bambusicola sonorivox        1817      2463       883   \n",
            "5         S-02  Bambusicola sonorivox        2369      2828      2329   \n",
            "6         S-01  Bambusicola sonorivox        2716      3372       873   \n",
            "7         U-01   Pericrocotus solaris        3149      3803      3650   \n",
            "8         S-02  Bambusicola sonorivox        3278      3750      2288   \n",
            "9         S-01  Bambusicola sonorivox        3608      4305       851   \n",
            "10        S-02  Bambusicola sonorivox        4211      4704      2329   \n",
            "11        S-01  Bambusicola sonorivox        4537      5252       950   \n",
            "12        S-02  Bambusicola sonorivox        5099      5567      2308   \n",
            "13        S-01  Bambusicola sonorivox        5500      6142      1230   \n",
            "14        S-01  Bambusicola sonorivox        6275      6862      1718   \n",
            "15        S-02  Bambusicola sonorivox        6674      7080      2456   \n",
            "16        S-01  Bambusicola sonorivox        6991      7688       938   \n",
            "17        S-02  Bambusicola sonorivox        7000      7275      2413   \n",
            "18        S-02  Bambusicola sonorivox        7436      7901      2434   \n",
            "19        S-01     Fulvetta formosana        7761      8759      3280   \n",
            "20        S-01  Bambusicola sonorivox        7885      8578       789   \n",
            "21        S-02  Bambusicola sonorivox        8257      8734      2477   \n",
            "22        S-01  Bambusicola sonorivox        8823      9518       873   \n",
            "23        S-02  Bambusicola sonorivox        9149      9658      2456   \n",
            "24        S-01  Bambusicola sonorivox        9757     10532       710   \n",
            "25        S-02  Bambusicola sonorivox       10083     10589      2456   \n",
            "26        S-01  Bambusicola sonorivox       10764     11525       729   \n",
            "27        S-02  Bambusicola sonorivox       11041     11541      2434   \n",
            "28        S-01  Bambusicola sonorivox       11791     12557       799   \n",
            "29        S-02  Bambusicola sonorivox       12101     12596      2268   \n",
            "30        S-01  Bambusicola sonorivox       12796     13484       789   \n",
            "31        S-02  Bambusicola sonorivox       13028     13550      2413   \n",
            "\n",
            "    freq_high  score  \n",
            "0        2942  0.805  \n",
            "1        3199  0.678  \n",
            "2        2820  0.825  \n",
            "3        3620  0.658  \n",
            "4        2967  0.843  \n",
            "5        3561  0.634  \n",
            "6        3017  0.807  \n",
            "7        6914  0.515  \n",
            "8        3561  0.588  \n",
            "9        2796  0.837  \n",
            "10       3620  0.658  \n",
            "11       2820  0.825  \n",
            "12       3504  0.573  \n",
            "13       3043  0.741  \n",
            "14       3199  0.687  \n",
            "15       3504  0.550  \n",
            "16       2820  0.736  \n",
            "17       3335  0.644  \n",
            "18       3679  0.796  \n",
            "19       7564  0.788  \n",
            "20       2844  0.813  \n",
            "21       3591  0.799  \n",
            "22       2772  0.810  \n",
            "23       3532  0.810  \n",
            "24       2992  0.812  \n",
            "25       3475  0.759  \n",
            "26       2844  0.810  \n",
            "27       3447  0.747  \n",
            "28       3018  0.781  \n",
            "29       3418  0.668  \n",
            "30       2844  0.810  \n",
            "31       3390  0.794  \n",
            "聲譜圖 Spectrogram 儲存至 C:\\Users\\maoto\\Desktop\\dev\\project\\silic\\samplea\\linear\\20230327_131403.jpg.\n",
            "C:\\Users\\maoto\\Desktop\\dev\\project\\silic\\samplea\\labels\\20230327_131403.jpg saved\n",
            "STFT kernels created, time used = 0.0492 seconds\n",
            "STFT kernels created, time used = 0.0575 seconds\n",
            "STFT filter created, time used = 0.0040 seconds\n",
            "Mel filter created, time used = 0.0040 seconds\n",
            "6 files found.\n",
            "原始音訊： channel = 2, 採樣率sample_rate = 44100 Hz, 採樣大小sample_size = 1327104, 持續時間duration = 15.046530612244897 s\n",
            "標準化音訊： channel = 1, sample_rate = 32000 Hz, sample_size = 481489, duration = 15.04653125 s\n",
            "聲譜圖 Spectrogram 儲存至 result_silic\\linear\\20230327_131403.png.\n"
          ]
        },
        {
          "name": "stderr",
          "output_type": "stream",
          "text": [
            "Fusing layers... \n",
            "Model summary: 283 layers, 7945526 parameters, 0 gradients\n"
          ]
        },
        {
          "name": "stdout",
          "output_type": "stream",
          "text": [
            "聲譜圖 Spectrogram 儲存至 result_silic\\rainbow\\20230327_131403.png.\n",
            "32 sounds of 4 species is/are found in C:\\Users\\maoto\\Desktop\\dev\\project\\silic\\samplea\\20230327_131403.mp3\n",
            "原始音訊： channel = 1, 採樣率sample_rate = 32000 Hz, 採樣大小sample_size = 192000, 持續時間duration = 6.0 s\n",
            "標準化音訊： channel = 1, sample_rate = 32000 Hz, sample_size = 192000, duration = 6.0 s\n",
            "聲譜圖 Spectrogram 儲存至 result_silic\\linear\\20230327_132403.png.\n",
            "聲譜圖 Spectrogram 儲存至 result_silic\\rainbow\\20230327_132403.png.\n",
            "2 sounds of 1 species is/are found in C:\\Users\\maoto\\Desktop\\dev\\project\\silic\\samplea\\20230327_132403.mp3\n",
            "34 sounds of 5 species is/are found in 2 recording(s). Preparing the browser package ...\n",
            "完成. 瀏覽器套件已壓縮並命名為 result.zip。\n",
            "8.155996322631836 used.\n",
            "20230327_132403.mp3\n",
            "STFT kernels created, time used = 0.0420 seconds\n",
            "STFT kernels created, time used = 0.0495 seconds\n",
            "STFT filter created, time used = 0.0040 seconds\n",
            "Mel filter created, time used = 0.0040 seconds\n",
            "原始音訊： channel = 1, 採樣率sample_rate = 32000 Hz, 採樣大小sample_size = 192000, 持續時間duration = 6.0 s\n",
            "標準化音訊： channel = 1, sample_rate = 32000 Hz, sample_size = 192000, duration = 6.0 s\n",
            "聲譜圖 Spectrogram 儲存至 C:\\Users\\maoto\\Desktop\\dev\\project\\silic\\samplea\\linear\\20230327_132403.jpg.\n",
            "聲譜圖 Spectrogram 儲存至 C:\\Users\\maoto\\Desktop\\dev\\project\\silic\\samplea\\mel\\20230327_132403.jpg.\n"
          ]
        },
        {
          "name": "stderr",
          "output_type": "stream",
          "text": [
            "Fusing layers... \n",
            "Model summary: 283 layers, 7945526 parameters, 0 gradients\n"
          ]
        },
        {
          "name": "stdout",
          "output_type": "stream",
          "text": [
            "聲譜圖 Spectrogram 儲存至 C:\\Users\\maoto\\Desktop\\dev\\project\\silic\\samplea\\rainbow\\20230327_132403.jpg.\n",
            "聲譜圖 Spectrogram 儲存至 C:\\Users\\maoto\\Desktop\\dev\\project\\silic\\samplea\\rainbow\\20230327_132403.jpg.\n",
            "                                                file  classid species_name  \\\n",
            "0  C:\\Users\\maoto\\Desktop\\dev\\project\\silic\\sampl...       66           鵂鶹   \n",
            "1  C:\\Users\\maoto\\Desktop\\dev\\project\\silic\\sampl...       66           鵂鶹   \n",
            "\n",
            "  sound_class     scientific_name  time_begin  time_end  freq_low  freq_high  \\\n",
            "0        S-01  Glaucidium brodiei        2018      3989       810       1217   \n",
            "1        S-01  Glaucidium brodiei        5876      6000       841       1230   \n",
            "\n",
            "   score  \n",
            "0  0.741  \n",
            "1  0.559  \n",
            "聲譜圖 Spectrogram 儲存至 C:\\Users\\maoto\\Desktop\\dev\\project\\silic\\samplea\\linear\\20230327_132403.jpg.\n",
            "C:\\Users\\maoto\\Desktop\\dev\\project\\silic\\samplea\\labels\\20230327_132403.jpg saved\n",
            "STFT kernels created, time used = 0.0570 seconds\n",
            "STFT kernels created, time used = 0.0545 seconds\n",
            "STFT filter created, time used = 0.0050 seconds\n",
            "Mel filter created, time used = 0.0050 seconds\n",
            "6 files found.\n",
            "原始音訊： channel = 2, 採樣率sample_rate = 44100 Hz, 採樣大小sample_size = 1327104, 持續時間duration = 15.046530612244897 s\n",
            "標準化音訊： channel = 1, sample_rate = 32000 Hz, sample_size = 481489, duration = 15.04653125 s\n"
          ]
        },
        {
          "name": "stderr",
          "output_type": "stream",
          "text": [
            "Fusing layers... \n",
            "Model summary: 283 layers, 7945526 parameters, 0 gradients\n"
          ]
        },
        {
          "name": "stdout",
          "output_type": "stream",
          "text": [
            "聲譜圖 Spectrogram 儲存至 result_silic\\linear\\20230327_131403.png.\n",
            "聲譜圖 Spectrogram 儲存至 result_silic\\rainbow\\20230327_131403.png.\n",
            "32 sounds of 4 species is/are found in C:\\Users\\maoto\\Desktop\\dev\\project\\silic\\samplea\\20230327_131403.mp3\n",
            "原始音訊： channel = 1, 採樣率sample_rate = 32000 Hz, 採樣大小sample_size = 192000, 持續時間duration = 6.0 s\n",
            "標準化音訊： channel = 1, sample_rate = 32000 Hz, sample_size = 192000, duration = 6.0 s\n",
            "聲譜圖 Spectrogram 儲存至 result_silic\\linear\\20230327_132403.png.\n",
            "聲譜圖 Spectrogram 儲存至 result_silic\\rainbow\\20230327_132403.png.\n",
            "2 sounds of 1 species is/are found in C:\\Users\\maoto\\Desktop\\dev\\project\\silic\\samplea\\20230327_132403.mp3\n",
            "34 sounds of 5 species is/are found in 2 recording(s). Preparing the browser package ...\n",
            "完成. 瀏覽器套件已壓縮並命名為 result.zip。\n",
            "7.792004108428955 used.\n"
          ]
        }
      ],
      "source": [
        "print(dir)\n",
        "with os.scandir(dir) as files:\n",
        "    for file in files:\n",
        "        if file.is_file():\n",
        "            # \n",
        "            print(file.name)\n",
        "            # \n",
        "            model = silic.Silic()\n",
        "            model.audio(dir + '/' + file.name);\n",
        "            # \n",
        "            spect_linear = model.tfr()\n",
        "            Image(spect_linear)\n",
        "            \n",
        "            #\n",
        "            spect_mel = model.tfr(spect_type='mel')\n",
        "            Image(spect_mel)\n",
        "            \n",
        "            #\n",
        "            spect_rainbow = model.tfr(spect_type='rainbow')\n",
        "            Image(spect_rainbow)\n",
        "\n",
        "            #\n",
        "            \"\"\"\n",
        "            What is weights?\n",
        "            The weight is the kernel of SILIC and will be update after the SILIC is retrain/reinforcement.\n",
        "            Users can choose any version or use the latest version, i.e. higher number.\n",
        "            Users can find all models released in the folder \"model\"\n",
        "\n",
        "            What is step?\n",
        "            In SILIC, each detect is applied on a 3s audio.\n",
        "            When a recording is longer than 3s, users can choose a duration for the use of moving window\n",
        "            For example, when using step=1000, multiple 3s-clips will be cut every 1000ms, such as a 6s recording will be split into 4 clips: 0-3s, 1-4s, 2-5s and 3-6s\n",
        "\n",
        "            What is targetclasses?\n",
        "            Users can setup targetclasses to focus on the sounds interest, a smaller targetclasses can speed up computing process. \n",
        "            Use targetclasses=[] can detect all sound classes in the SILIC.\n",
        "            All the class ID can be found in model/expXX/soundclass.csv\n",
        "\n",
        "            What is conf_thres?\n",
        "            The SILIC will provide confidence score (between 0 and 1) for each detect.\n",
        "            Users can choose a threshold of confidence score (conf_thres) to filter out detects with scores lower than conf_thres.\n",
        "            A biger conf_thres can speed up computing process and increase the precision but decrease the recall.\n",
        "            \"\"\"\n",
        "            # labels = model.detect(weights='model/exp20/best.pt', step=1000, targetclasses=[66,101], conf_thres=0.1)\n",
        "            labels = model.detect(weights='model/exp24/best.pt', step=1000, targetclasses=[], conf_thres=0.5)\n",
        "            \n",
        "            #\n",
        "            df = pd.DataFrame(labels[1:],columns=labels[0])\n",
        "            df = df.sort_values('time_begin')\n",
        "            #print(df)\n",
        "\n",
        "            # 合併重疊\n",
        "            newlabels = silic.clean_multi_boxes(labels)\n",
        "            print(newlabels)\n",
        "\n",
        "            label_img = silic.draw_labels(model, newlabels)\n",
        "            Image(label_img)\n",
        "\n",
        "            # This function can package all the audios, detections and spectrograms of detections for using a www browser to review\n",
        "            silic.browser(dir, weights='model/exp24/best.pt', step=1000, targetclasses=[], conf_thres=0.5)"
      ]
    }
  ],
  "metadata": {
    "accelerator": "GPU",
    "colab": {
      "provenance": []
    },
    "kernelspec": {
      "display_name": "Python 3",
      "language": "python",
      "name": "python3"
    },
    "language_info": {
      "codemirror_mode": {
        "name": "ipython",
        "version": 3
      },
      "file_extension": ".py",
      "mimetype": "text/x-python",
      "name": "python",
      "nbconvert_exporter": "python",
      "pygments_lexer": "ipython3",
      "version": "3.10.6"
    }
  },
  "nbformat": 4,
  "nbformat_minor": 0
}
